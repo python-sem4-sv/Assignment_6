{
 "cells": [
  {
   "cell_type": "markdown",
   "metadata": {},
   "source": [
    "## Assignment 6\n",
    "This assignment requires you to work with Facebook network data, data preprocessing and `networkx`. Note that this is real data from real people!\n",
    "\n",
    "### Part 1: Preparing data\n",
    "\n",
    "The dataset you will be working with is available here: https://snap.stanford.edu/data/egonets-Facebook.html\n",
    "\n",
    "You're first job is to: \n",
    "\n",
    "**1. Download the data**"
   ]
  },
  {
   "cell_type": "code",
   "execution_count": 1,
   "metadata": {},
   "outputs": [
    {
     "name": "stdout",
     "output_type": "stream",
     "text": [
      "Downloading.. \n"
     ]
    }
   ],
   "source": [
    "import webget_v2\n",
    "\n",
    "!python webget_v2.py https://snap.stanford.edu/data/facebook_combined.txt.gz"
   ]
  },
  {
   "cell_type": "markdown",
   "metadata": {},
   "source": [
    "**2. Unpack the data**"
   ]
  },
  {
   "cell_type": "code",
   "execution_count": 2,
   "metadata": {},
   "outputs": [],
   "source": [
    "import gzip\n",
    "import shutil\n",
    "\n",
    "with gzip.open('facebook_combined.txt.gz', 'rb') as f_in:\n",
    "    with open('facebook_combined.txt', 'wb') as f_out:\n",
    "        shutil.copyfileobj(f_in, f_out)"
   ]
  },
  {
   "cell_type": "markdown",
   "metadata": {},
   "source": [
    "**3. Import the data as an undirected graph in `networkx`**"
   ]
  },
  {
   "cell_type": "code",
   "execution_count": 3,
   "metadata": {
    "scrolled": true
   },
   "outputs": [],
   "source": [
    "import networkx as nx\n",
    "import matplotlib.pyplot as plt\n",
    "\n",
    "edges = nx.read_edgelist('facebook_combined.txt')\n",
    "g = nx.Graph(edges)"
   ]
  },
  {
   "cell_type": "markdown",
   "metadata": {},
   "source": [
    "## Part 2: Analyse the data\n",
    "\n",
    "Now, let's take a look at the network you imported. \n",
    "\n",
    "By *node degree* we mean the *number of edges to and from a node*. This is different in an undirected network, where in-degree == out-degree, and a directed network where in-degree != out-degree.\n",
    "\n",
    "By *graph degree* we mean the *number of edges in the entire network*.\n",
    "\n",
    "Hand-in code that display:\n",
    "* **The number of nodes in the network**\n",
    "* **The number of edges in the network**\n",
    "* **The average degree in the network**"
   ]
  },
  {
   "cell_type": "code",
   "execution_count": 4,
   "metadata": {},
   "outputs": [
    {
     "name": "stdout",
     "output_type": "stream",
     "text": [
      "Name: \n",
      "Type: Graph\n",
      "Number of nodes: 4039\n",
      "Number of edges: 88234\n",
      "Average degree:  43.6910\n"
     ]
    }
   ],
   "source": [
    "print(nx.info(g))\n",
    "\n",
    "\n"
   ]
  },
  {
   "cell_type": "markdown",
   "metadata": {},
   "source": [
    "* **A visualisation of the network inside your notebook**"
   ]
  },
  {
   "cell_type": "code",
   "execution_count": null,
   "metadata": {},
   "outputs": [],
   "source": [
    "#Pygraphviz was not compatible with windows and adding pygraphviz to requirements for mybinder didn't work either,\n",
    "# so the graph will not be the prettiest\n",
    "\n",
    "def draw_graph(graph):\n",
    "    nx.draw(graph, \n",
    "            node_size=30, width=.05, cmap=plt.cm.Blues, \n",
    "            with_labels=True, node_color=range(len(graph)))\n",
    "\n",
    "draw_graph(g)\n",
    "plt.show()"
   ]
  },
  {
   "cell_type": "markdown",
   "metadata": {},
   "source": [
    "### Part 3: Find the most popular people\n",
    "\n",
    "We're naturally interested in who has the most friends, so we want to extract **top 10**. That is, the 10 most connected people.\n",
    "\n",
    "Hand-in:\n",
    "* __Code that extracts and reports the 10 people with the most connections in the network__"
   ]
  },
  {
   "cell_type": "code",
   "execution_count": null,
   "metadata": {},
   "outputs": [],
   "source": [
    "graph_dict = dict(g.degree())\n",
    "sorted_dict = sorted(graph_dict.items(), key=lambda x: x[1], reverse=True)\n",
    "top_10_dict = dict(sorted_dict[:10])\n",
    "print(top_10_dict)"
   ]
  }
 ],
 "metadata": {
  "kernelspec": {
   "display_name": "Python 3",
   "language": "python",
   "name": "python3"
  },
  "language_info": {
   "codemirror_mode": {
    "name": "ipython",
    "version": 3
   },
   "file_extension": ".py",
   "mimetype": "text/x-python",
   "name": "python",
   "nbconvert_exporter": "python",
   "pygments_lexer": "ipython3",
   "version": "3.7.1"
  }
 },
 "nbformat": 4,
 "nbformat_minor": 2
}
